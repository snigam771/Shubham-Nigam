{
 "cells": [
  {
   "cell_type": "markdown",
   "metadata": {
    "colab_type": "text",
    "id": "CIue2OQ5k1xK"
   },
   "source": [
    "# Shubham Nigam - 19A1HP071"
   ]
  },
  {
   "cell_type": "code",
   "execution_count": 62,
   "metadata": {
    "colab": {},
    "colab_type": "code",
    "id": "1MyRcbvSjSKA"
   },
   "outputs": [],
   "source": [
    "import pandas as pd #importing library for loading files as data frame\n",
    "import numpy as np #importing library for arithmatic operations\n",
    "ad = pd.read_csv(r\"C:\\Users\\Shubham\\Downloads\\Advertising.csv\") #reading the data file as dataframe"
   ]
  },
  {
   "cell_type": "code",
   "execution_count": 63,
   "metadata": {
    "colab": {},
    "colab_type": "code",
    "id": "_-4aMZVbkz0h"
   },
   "outputs": [
    {
     "name": "stdout",
     "output_type": "stream",
     "text": [
      "<class 'pandas.core.frame.DataFrame'>\n",
      "RangeIndex: 200 entries, 0 to 199\n",
      "Data columns (total 6 columns):\n",
      " #   Column     Non-Null Count  Dtype  \n",
      "---  ------     --------------  -----  \n",
      " 0   Sno        200 non-null    int64  \n",
      " 1   TV         199 non-null    float64\n",
      " 2   Radio      199 non-null    float64\n",
      " 3   Newspaper  199 non-null    float64\n",
      " 4   Day        197 non-null    object \n",
      " 5   Sales      200 non-null    float64\n",
      "dtypes: float64(4), int64(1), object(1)\n",
      "memory usage: 9.5+ KB\n"
     ]
    }
   ],
   "source": [
    "ad.info() #checking for data type. Question 1"
   ]
  },
  {
   "cell_type": "code",
   "execution_count": 64,
   "metadata": {
    "colab": {},
    "colab_type": "code",
    "id": "YitEvH1GlMZq"
   },
   "outputs": [
    {
     "data": {
      "text/html": [
       "<div>\n",
       "<style scoped>\n",
       "    .dataframe tbody tr th:only-of-type {\n",
       "        vertical-align: middle;\n",
       "    }\n",
       "\n",
       "    .dataframe tbody tr th {\n",
       "        vertical-align: top;\n",
       "    }\n",
       "\n",
       "    .dataframe thead th {\n",
       "        text-align: right;\n",
       "    }\n",
       "</style>\n",
       "<table border=\"1\" class=\"dataframe\">\n",
       "  <thead>\n",
       "    <tr style=\"text-align: right;\">\n",
       "      <th></th>\n",
       "      <th>Sno</th>\n",
       "      <th>TV</th>\n",
       "      <th>Radio</th>\n",
       "      <th>Newspaper</th>\n",
       "      <th>Day</th>\n",
       "      <th>Sales</th>\n",
       "    </tr>\n",
       "  </thead>\n",
       "  <tbody>\n",
       "    <tr>\n",
       "      <th>16</th>\n",
       "      <td>17</td>\n",
       "      <td>67.8</td>\n",
       "      <td>36.6</td>\n",
       "      <td>NaN</td>\n",
       "      <td>NaN</td>\n",
       "      <td>3.2</td>\n",
       "    </tr>\n",
       "    <tr>\n",
       "      <th>42</th>\n",
       "      <td>43</td>\n",
       "      <td>293.6</td>\n",
       "      <td>NaN</td>\n",
       "      <td>1.8</td>\n",
       "      <td>NaN</td>\n",
       "      <td>10.4</td>\n",
       "    </tr>\n",
       "    <tr>\n",
       "      <th>68</th>\n",
       "      <td>69</td>\n",
       "      <td>NaN</td>\n",
       "      <td>27.5</td>\n",
       "      <td>11.0</td>\n",
       "      <td>NaN</td>\n",
       "      <td>12.8</td>\n",
       "    </tr>\n",
       "  </tbody>\n",
       "</table>\n",
       "</div>"
      ],
      "text/plain": [
       "    Sno     TV  Radio  Newspaper  Day  Sales\n",
       "16   17   67.8   36.6        NaN  NaN    3.2\n",
       "42   43  293.6    NaN        1.8  NaN   10.4\n",
       "68   69    NaN   27.5       11.0  NaN   12.8"
      ]
     },
     "execution_count": 64,
     "metadata": {},
     "output_type": "execute_result"
    }
   ],
   "source": [
    "ad[ad.Day.isnull()] #Q.2 identifying missing value"
   ]
  },
  {
   "cell_type": "code",
   "execution_count": 65,
   "metadata": {
    "colab": {},
    "colab_type": "code",
    "id": "5LhTC8bFnI6P"
   },
   "outputs": [
    {
     "name": "stdout",
     "output_type": "stream",
     "text": [
      "<class 'pandas.core.frame.DataFrame'>\n",
      "Int64Index: 197 entries, 0 to 199\n",
      "Data columns (total 6 columns):\n",
      " #   Column     Non-Null Count  Dtype  \n",
      "---  ------     --------------  -----  \n",
      " 0   Sno        197 non-null    int64  \n",
      " 1   TV         197 non-null    float64\n",
      " 2   Radio      197 non-null    float64\n",
      " 3   Newspaper  197 non-null    float64\n",
      " 4   Day        197 non-null    object \n",
      " 5   Sales      197 non-null    float64\n",
      "dtypes: float64(4), int64(1), object(1)\n",
      "memory usage: 10.8+ KB\n"
     ]
    }
   ],
   "source": [
    "ad = ad.dropna(subset = ['Day']) #deleting the row with null value\n",
    "ad.info() "
   ]
  },
  {
   "cell_type": "code",
   "execution_count": 66,
   "metadata": {
    "colab": {},
    "colab_type": "code",
    "id": "2PVtcMbvo01o"
   },
   "outputs": [
    {
     "data": {
      "text/html": [
       "<div>\n",
       "<style scoped>\n",
       "    .dataframe tbody tr th:only-of-type {\n",
       "        vertical-align: middle;\n",
       "    }\n",
       "\n",
       "    .dataframe tbody tr th {\n",
       "        vertical-align: top;\n",
       "    }\n",
       "\n",
       "    .dataframe thead th {\n",
       "        text-align: right;\n",
       "    }\n",
       "</style>\n",
       "<table border=\"1\" class=\"dataframe\">\n",
       "  <thead>\n",
       "    <tr style=\"text-align: right;\">\n",
       "      <th></th>\n",
       "      <th>Sno</th>\n",
       "      <th>TV</th>\n",
       "      <th>Radio</th>\n",
       "      <th>Newspaper</th>\n",
       "      <th>Day</th>\n",
       "      <th>Sales</th>\n",
       "    </tr>\n",
       "  </thead>\n",
       "  <tbody>\n",
       "  </tbody>\n",
       "</table>\n",
       "</div>"
      ],
      "text/plain": [
       "Empty DataFrame\n",
       "Columns: [Sno, TV, Radio, Newspaper, Day, Sales]\n",
       "Index: []"
      ]
     },
     "execution_count": 66,
     "metadata": {},
     "output_type": "execute_result"
    }
   ],
   "source": [
    "ad[ad.Day.isnull()] #checking if row with null value is deleted"
   ]
  },
  {
   "cell_type": "code",
   "execution_count": 67,
   "metadata": {
    "colab": {},
    "colab_type": "code",
    "id": "ayCwJ9Hso63x"
   },
   "outputs": [
    {
     "data": {
      "text/plain": [
       "array(['Weekend', 'Weekdays', 'Holiday'], dtype=object)"
      ]
     },
     "execution_count": 67,
     "metadata": {},
     "output_type": "execute_result"
    }
   ],
   "source": [
    "ad['Day'].unique() #giving unique value to day column"
   ]
  },
  {
   "cell_type": "code",
   "execution_count": 68,
   "metadata": {
    "colab": {},
    "colab_type": "code",
    "id": "TnoYD4yhpFEO"
   },
   "outputs": [
    {
     "data": {
      "text/html": [
       "<div>\n",
       "<style scoped>\n",
       "    .dataframe tbody tr th:only-of-type {\n",
       "        vertical-align: middle;\n",
       "    }\n",
       "\n",
       "    .dataframe tbody tr th {\n",
       "        vertical-align: top;\n",
       "    }\n",
       "\n",
       "    .dataframe thead th {\n",
       "        text-align: right;\n",
       "    }\n",
       "</style>\n",
       "<table border=\"1\" class=\"dataframe\">\n",
       "  <thead>\n",
       "    <tr style=\"text-align: right;\">\n",
       "      <th></th>\n",
       "      <th>Holiday</th>\n",
       "      <th>Weekdays</th>\n",
       "      <th>Weekend</th>\n",
       "    </tr>\n",
       "  </thead>\n",
       "  <tbody>\n",
       "    <tr>\n",
       "      <th>0</th>\n",
       "      <td>0</td>\n",
       "      <td>0</td>\n",
       "      <td>1</td>\n",
       "    </tr>\n",
       "    <tr>\n",
       "      <th>1</th>\n",
       "      <td>0</td>\n",
       "      <td>1</td>\n",
       "      <td>0</td>\n",
       "    </tr>\n",
       "    <tr>\n",
       "      <th>2</th>\n",
       "      <td>0</td>\n",
       "      <td>1</td>\n",
       "      <td>0</td>\n",
       "    </tr>\n",
       "    <tr>\n",
       "      <th>3</th>\n",
       "      <td>0</td>\n",
       "      <td>1</td>\n",
       "      <td>0</td>\n",
       "    </tr>\n",
       "    <tr>\n",
       "      <th>4</th>\n",
       "      <td>0</td>\n",
       "      <td>1</td>\n",
       "      <td>0</td>\n",
       "    </tr>\n",
       "    <tr>\n",
       "      <th>...</th>\n",
       "      <td>...</td>\n",
       "      <td>...</td>\n",
       "      <td>...</td>\n",
       "    </tr>\n",
       "    <tr>\n",
       "      <th>195</th>\n",
       "      <td>0</td>\n",
       "      <td>1</td>\n",
       "      <td>0</td>\n",
       "    </tr>\n",
       "    <tr>\n",
       "      <th>196</th>\n",
       "      <td>0</td>\n",
       "      <td>1</td>\n",
       "      <td>0</td>\n",
       "    </tr>\n",
       "    <tr>\n",
       "      <th>197</th>\n",
       "      <td>0</td>\n",
       "      <td>1</td>\n",
       "      <td>0</td>\n",
       "    </tr>\n",
       "    <tr>\n",
       "      <th>198</th>\n",
       "      <td>1</td>\n",
       "      <td>0</td>\n",
       "      <td>0</td>\n",
       "    </tr>\n",
       "    <tr>\n",
       "      <th>199</th>\n",
       "      <td>0</td>\n",
       "      <td>0</td>\n",
       "      <td>1</td>\n",
       "    </tr>\n",
       "  </tbody>\n",
       "</table>\n",
       "<p>197 rows × 3 columns</p>\n",
       "</div>"
      ],
      "text/plain": [
       "     Holiday  Weekdays  Weekend\n",
       "0          0         0        1\n",
       "1          0         1        0\n",
       "2          0         1        0\n",
       "3          0         1        0\n",
       "4          0         1        0\n",
       "..       ...       ...      ...\n",
       "195        0         1        0\n",
       "196        0         1        0\n",
       "197        0         1        0\n",
       "198        1         0        0\n",
       "199        0         0        1\n",
       "\n",
       "[197 rows x 3 columns]"
      ]
     },
     "execution_count": 68,
     "metadata": {},
     "output_type": "execute_result"
    }
   ],
   "source": [
    "pd.get_dummies(ad['Day']) #converting  category to indicator variables"
   ]
  },
  {
   "cell_type": "code",
   "execution_count": 69,
   "metadata": {
    "colab": {},
    "colab_type": "code",
    "id": "IGD2UpGUqB0o"
   },
   "outputs": [],
   "source": [
    "categorical = ['Day'] # Q.2 creating categorical variable\n",
    "features = ['TV', 'Radio', 'Newspaper', 'Day'] # creating list of non categorical and independent columns"
   ]
  },
  {
   "cell_type": "code",
   "execution_count": 70,
   "metadata": {
    "colab": {},
    "colab_type": "code",
    "id": "Hp6WHqPPqMXX"
   },
   "outputs": [],
   "source": [
    "encoded_ad = pd.get_dummies(ad[features], columns = categorical) #adding categorical columns"
   ]
  },
  {
   "cell_type": "code",
   "execution_count": 71,
   "metadata": {
    "colab": {},
    "colab_type": "code",
    "id": "31kFfXCequRF"
   },
   "outputs": [
    {
     "data": {
      "text/plain": [
       "Index(['TV', 'Radio', 'Newspaper', 'Day_Holiday', 'Day_Weekdays',\n",
       "       'Day_Weekend'],\n",
       "      dtype='object')"
      ]
     },
     "execution_count": 71,
     "metadata": {},
     "output_type": "execute_result"
    }
   ],
   "source": [
    "encoded_ad.columns #display  columns"
   ]
  },
  {
   "cell_type": "code",
   "execution_count": 72,
   "metadata": {
    "colab": {},
    "colab_type": "code",
    "id": "d2qtfTW0sKku"
   },
   "outputs": [
    {
     "data": {
      "text/plain": [
       "Index(['TV', 'Radio', 'Newspaper', 'Day_Holiday', 'Day_Weekdays',\n",
       "       'Day_Weekend'],\n",
       "      dtype='object')"
      ]
     },
     "execution_count": 72,
     "metadata": {},
     "output_type": "execute_result"
    }
   ],
   "source": [
    "features = encoded_ad.columns\n",
    "features # making a list of independent columns"
   ]
  },
  {
   "cell_type": "code",
   "execution_count": 73,
   "metadata": {
    "colab": {},
    "colab_type": "code",
    "id": "mRzE44TdQnHA"
   },
   "outputs": [
    {
     "data": {
      "text/html": [
       "<div>\n",
       "<style scoped>\n",
       "    .dataframe tbody tr th:only-of-type {\n",
       "        vertical-align: middle;\n",
       "    }\n",
       "\n",
       "    .dataframe tbody tr th {\n",
       "        vertical-align: top;\n",
       "    }\n",
       "\n",
       "    .dataframe thead th {\n",
       "        text-align: right;\n",
       "    }\n",
       "</style>\n",
       "<table border=\"1\" class=\"dataframe\">\n",
       "  <thead>\n",
       "    <tr style=\"text-align: right;\">\n",
       "      <th></th>\n",
       "      <th>TV</th>\n",
       "      <th>Radio</th>\n",
       "      <th>Newspaper</th>\n",
       "      <th>Day_Holiday</th>\n",
       "      <th>Day_Weekdays</th>\n",
       "      <th>Day_Weekend</th>\n",
       "    </tr>\n",
       "  </thead>\n",
       "  <tbody>\n",
       "    <tr>\n",
       "      <th>count</th>\n",
       "      <td>197.000000</td>\n",
       "      <td>197.000000</td>\n",
       "      <td>197.000000</td>\n",
       "      <td>197.000000</td>\n",
       "      <td>197.000000</td>\n",
       "      <td>197.000000</td>\n",
       "    </tr>\n",
       "    <tr>\n",
       "      <th>mean</th>\n",
       "      <td>146.242132</td>\n",
       "      <td>23.152284</td>\n",
       "      <td>30.375635</td>\n",
       "      <td>0.020305</td>\n",
       "      <td>0.766497</td>\n",
       "      <td>0.213198</td>\n",
       "    </tr>\n",
       "    <tr>\n",
       "      <th>std</th>\n",
       "      <td>85.439138</td>\n",
       "      <td>14.922793</td>\n",
       "      <td>20.972370</td>\n",
       "      <td>0.141399</td>\n",
       "      <td>0.424137</td>\n",
       "      <td>0.410610</td>\n",
       "    </tr>\n",
       "    <tr>\n",
       "      <th>min</th>\n",
       "      <td>0.700000</td>\n",
       "      <td>0.000000</td>\n",
       "      <td>0.300000</td>\n",
       "      <td>0.000000</td>\n",
       "      <td>0.000000</td>\n",
       "      <td>0.000000</td>\n",
       "    </tr>\n",
       "    <tr>\n",
       "      <th>25%</th>\n",
       "      <td>74.700000</td>\n",
       "      <td>9.900000</td>\n",
       "      <td>12.900000</td>\n",
       "      <td>0.000000</td>\n",
       "      <td>1.000000</td>\n",
       "      <td>0.000000</td>\n",
       "    </tr>\n",
       "    <tr>\n",
       "      <th>50%</th>\n",
       "      <td>149.700000</td>\n",
       "      <td>22.300000</td>\n",
       "      <td>25.900000</td>\n",
       "      <td>0.000000</td>\n",
       "      <td>1.000000</td>\n",
       "      <td>0.000000</td>\n",
       "    </tr>\n",
       "    <tr>\n",
       "      <th>75%</th>\n",
       "      <td>218.400000</td>\n",
       "      <td>36.500000</td>\n",
       "      <td>45.100000</td>\n",
       "      <td>0.000000</td>\n",
       "      <td>1.000000</td>\n",
       "      <td>0.000000</td>\n",
       "    </tr>\n",
       "    <tr>\n",
       "      <th>max</th>\n",
       "      <td>296.400000</td>\n",
       "      <td>49.600000</td>\n",
       "      <td>100.900000</td>\n",
       "      <td>1.000000</td>\n",
       "      <td>1.000000</td>\n",
       "      <td>1.000000</td>\n",
       "    </tr>\n",
       "  </tbody>\n",
       "</table>\n",
       "</div>"
      ],
      "text/plain": [
       "               TV       Radio   Newspaper  Day_Holiday  Day_Weekdays  \\\n",
       "count  197.000000  197.000000  197.000000   197.000000    197.000000   \n",
       "mean   146.242132   23.152284   30.375635     0.020305      0.766497   \n",
       "std     85.439138   14.922793   20.972370     0.141399      0.424137   \n",
       "min      0.700000    0.000000    0.300000     0.000000      0.000000   \n",
       "25%     74.700000    9.900000   12.900000     0.000000      1.000000   \n",
       "50%    149.700000   22.300000   25.900000     0.000000      1.000000   \n",
       "75%    218.400000   36.500000   45.100000     0.000000      1.000000   \n",
       "max    296.400000   49.600000  100.900000     1.000000      1.000000   \n",
       "\n",
       "       Day_Weekend  \n",
       "count   197.000000  \n",
       "mean      0.213198  \n",
       "std       0.410610  \n",
       "min       0.000000  \n",
       "25%       0.000000  \n",
       "50%       0.000000  \n",
       "75%       0.000000  \n",
       "max       1.000000  "
      ]
     },
     "execution_count": 73,
     "metadata": {},
     "output_type": "execute_result"
    }
   ],
   "source": [
    "encoded_ad.describe() # Q4 Descriptive summary of all categorical variable"
   ]
  },
  {
   "cell_type": "code",
   "execution_count": 74,
   "metadata": {
    "colab": {},
    "colab_type": "code",
    "id": "FVZTE2xUr4Vf",
    "scrolled": true
   },
   "outputs": [
    {
     "data": {
      "text/plain": [
       "count    197.000000\n",
       "mean      14.102030\n",
       "std        5.192302\n",
       "min        1.600000\n",
       "25%       10.400000\n",
       "50%       12.900000\n",
       "75%       17.400000\n",
       "max       27.000000\n",
       "Name: Sales, dtype: float64"
      ]
     },
     "execution_count": 74,
     "metadata": {},
     "output_type": "execute_result"
    }
   ],
   "source": [
    "ad['Sales'].describe() # describing summary of sales column"
   ]
  },
  {
   "cell_type": "code",
   "execution_count": 75,
   "metadata": {
    "colab": {},
    "colab_type": "code",
    "id": "aVkwleTaui4J"
   },
   "outputs": [],
   "source": [
    "import matplotlib.pyplot as plt # importing libraries for graphs \n",
    "import seaborn as sn\n",
    "%matplotlib inline"
   ]
  },
  {
   "cell_type": "code",
   "execution_count": 76,
   "metadata": {
    "colab": {},
    "colab_type": "code",
    "id": "FujViz8IuvpW"
   },
   "outputs": [],
   "source": [
    "import warnings # importing the warning library\n",
    "warnings.filterwarnings('ignore') # used to ignore the warning given by plot functions"
   ]
  },
  {
   "cell_type": "code",
   "execution_count": 77,
   "metadata": {
    "colab": {},
    "colab_type": "code",
    "id": "q6eJ3wlkTO3l"
   },
   "outputs": [
    {
     "data": {
      "text/html": [
       "<div>\n",
       "<style scoped>\n",
       "    .dataframe tbody tr th:only-of-type {\n",
       "        vertical-align: middle;\n",
       "    }\n",
       "\n",
       "    .dataframe tbody tr th {\n",
       "        vertical-align: top;\n",
       "    }\n",
       "\n",
       "    .dataframe thead th {\n",
       "        text-align: right;\n",
       "    }\n",
       "</style>\n",
       "<table border=\"1\" class=\"dataframe\">\n",
       "  <thead>\n",
       "    <tr style=\"text-align: right;\">\n",
       "      <th></th>\n",
       "      <th>Day</th>\n",
       "      <th>Sales</th>\n",
       "    </tr>\n",
       "  </thead>\n",
       "  <tbody>\n",
       "    <tr>\n",
       "      <th>0</th>\n",
       "      <td>Holiday</td>\n",
       "      <td>13.175000</td>\n",
       "    </tr>\n",
       "    <tr>\n",
       "      <th>1</th>\n",
       "      <td>Weekdays</td>\n",
       "      <td>14.033113</td>\n",
       "    </tr>\n",
       "    <tr>\n",
       "      <th>2</th>\n",
       "      <td>Weekend</td>\n",
       "      <td>14.438095</td>\n",
       "    </tr>\n",
       "  </tbody>\n",
       "</table>\n",
       "</div>"
      ],
      "text/plain": [
       "        Day      Sales\n",
       "0   Holiday  13.175000\n",
       "1  Weekdays  14.033113\n",
       "2   Weekend  14.438095"
      ]
     },
     "execution_count": 77,
     "metadata": {},
     "output_type": "execute_result"
    }
   ],
   "source": [
    "day_sales = ad.groupby('Day')['Sales'].mean().reset_index() # making sales the grouping variable and taking the mean\n",
    "day_sales"
   ]
  },
  {
   "cell_type": "code",
   "execution_count": 78,
   "metadata": {
    "colab": {},
    "colab_type": "code",
    "id": "_oe1XQLHu53g"
   },
   "outputs": [
    {
     "data": {
      "image/png": "[encoded data removed]",
      "text/plain": [
       "<Figure size 432x288 with 1 Axes>"
      ]
     },
     "metadata": {
      "needs_background": "light"
     },
     "output_type": "display_data"
    }
   ],
   "source": [
    "sn.barplot(x = 'Day', y = 'Sales', data = day_sales); #Q4 Bar graph- SALES IS HIGHEST IN THE WEEKENDS"
   ]
  },
  {
   "cell_type": "markdown",
   "metadata": {},
   "source": []
  },
  {
   "cell_type": "code",
   "execution_count": 79,
   "metadata": {
    "colab": {},
    "colab_type": "code",
    "id": "5zpkJxe5S1u_"
   },
   "outputs": [
    {
     "data": {
      "text/plain": [
       "<matplotlib.axes._subplots.AxesSubplot at 0x22b934777c8>"
      ]
     },
     "execution_count": 79,
     "metadata": {},
     "output_type": "execute_result"
    },
    {
     "data": {
      "image/png": "[encoded data removed]",
      "text/plain": [
       "<Figure size 432x288 with 1 Axes>"
      ]
     },
     "metadata": {
      "needs_background": "light"
     },
     "output_type": "display_data"
    }
   ],
   "source": [
    "sn.boxplot(ad['Sales']) # box plot - NO OUTLIERS HENCE MEAN AND MEDIAN CAN BE A GOOD INDICATOR FOR ANALYSIS"
   ]
  },
  {
   "cell_type": "markdown",
   "metadata": {},
   "source": []
  },
  {
   "cell_type": "code",
   "execution_count": 80,
   "metadata": {
    "colab": {},
    "colab_type": "code",
    "id": "TVevVrCW1Boo"
   },
   "outputs": [
    {
     "data": {
      "text/html": [
       "<div>\n",
       "<style scoped>\n",
       "    .dataframe tbody tr th:only-of-type {\n",
       "        vertical-align: middle;\n",
       "    }\n",
       "\n",
       "    .dataframe tbody tr th {\n",
       "        vertical-align: top;\n",
       "    }\n",
       "\n",
       "    .dataframe thead th {\n",
       "        text-align: right;\n",
       "    }\n",
       "</style>\n",
       "<table border=\"1\" class=\"dataframe\">\n",
       "  <thead>\n",
       "    <tr style=\"text-align: right;\">\n",
       "      <th></th>\n",
       "      <th>TV</th>\n",
       "      <th>Radio</th>\n",
       "      <th>Newspaper</th>\n",
       "      <th>Day_Holiday</th>\n",
       "      <th>Day_Weekdays</th>\n",
       "      <th>Day_Weekend</th>\n",
       "    </tr>\n",
       "  </thead>\n",
       "  <tbody>\n",
       "    <tr>\n",
       "      <th>0</th>\n",
       "      <td>230.1</td>\n",
       "      <td>37.8</td>\n",
       "      <td>69.2</td>\n",
       "      <td>0</td>\n",
       "      <td>0</td>\n",
       "      <td>1</td>\n",
       "    </tr>\n",
       "    <tr>\n",
       "      <th>1</th>\n",
       "      <td>44.5</td>\n",
       "      <td>39.3</td>\n",
       "      <td>45.1</td>\n",
       "      <td>0</td>\n",
       "      <td>1</td>\n",
       "      <td>0</td>\n",
       "    </tr>\n",
       "    <tr>\n",
       "      <th>2</th>\n",
       "      <td>17.2</td>\n",
       "      <td>45.9</td>\n",
       "      <td>69.3</td>\n",
       "      <td>0</td>\n",
       "      <td>1</td>\n",
       "      <td>0</td>\n",
       "    </tr>\n",
       "    <tr>\n",
       "      <th>3</th>\n",
       "      <td>151.5</td>\n",
       "      <td>41.3</td>\n",
       "      <td>58.5</td>\n",
       "      <td>0</td>\n",
       "      <td>1</td>\n",
       "      <td>0</td>\n",
       "    </tr>\n",
       "    <tr>\n",
       "      <th>4</th>\n",
       "      <td>180.8</td>\n",
       "      <td>10.8</td>\n",
       "      <td>58.4</td>\n",
       "      <td>0</td>\n",
       "      <td>1</td>\n",
       "      <td>0</td>\n",
       "    </tr>\n",
       "  </tbody>\n",
       "</table>\n",
       "</div>"
      ],
      "text/plain": [
       "      TV  Radio  Newspaper  Day_Holiday  Day_Weekdays  Day_Weekend\n",
       "0  230.1   37.8       69.2            0             0            1\n",
       "1   44.5   39.3       45.1            0             1            0\n",
       "2   17.2   45.9       69.3            0             1            0\n",
       "3  151.5   41.3       58.5            0             1            0\n",
       "4  180.8   10.8       58.4            0             1            0"
      ]
     },
     "execution_count": 80,
     "metadata": {},
     "output_type": "execute_result"
    }
   ],
   "source": [
    "encoded_ad.head(5)"
   ]
  },
  {
   "cell_type": "code",
   "execution_count": 81,
   "metadata": {
    "colab": {},
    "colab_type": "code",
    "id": "_UKGO0ijyJA5"
   },
   "outputs": [],
   "source": [
    "import statsmodels.api as sm # importing library\n",
    "from sklearn.model_selection import train_test_split # importing function to run regression model\n",
    "X = sm.add_constant(encoded_ad) # constant .\n",
    "Y = ad['Sales'] # depedent variable\n",
    "train_X, test_X, train_y, test_y = train_test_split( X ,Y,train_size = 0.7, random_state = 74 ) # Q6 splitting the data as train and test in 70:30 ratio"
   ]
  },
  {
   "cell_type": "code",
   "execution_count": 82,
   "metadata": {
    "colab": {},
    "colab_type": "code",
    "id": "WwAVw-OUypZe"
   },
   "outputs": [
    {
     "data": {
      "text/html": [
       "<table class=\"simpletable\">\n",
       "<tr>\n",
       "        <td>Model:</td>               <td>OLS</td>         <td>Adj. R-squared:</td>    <td>-0.019</td> \n",
       "</tr>\n",
       "<tr>\n",
       "  <td>Dependent Variable:</td>       <td>Sales</td>             <td>AIC:</td>         <td>859.1043</td>\n",
       "</tr>\n",
       "<tr>\n",
       "         <td>Date:</td>        <td>2020-08-12 02:26</td>        <td>BIC:</td>         <td>876.6242</td>\n",
       "</tr>\n",
       "<tr>\n",
       "   <td>No. Observations:</td>         <td>137</td>         <td>Log-Likelihood:</td>    <td>-423.55</td>\n",
       "</tr>\n",
       "<tr>\n",
       "       <td>Df Model:</td>              <td>5</td>           <td>F-statistic:</td>      <td>0.4885</td> \n",
       "</tr>\n",
       "<tr>\n",
       "     <td>Df Residuals:</td>           <td>131</td>       <td>Prob (F-statistic):</td>   <td>0.784</td> \n",
       "</tr>\n",
       "<tr>\n",
       "      <td>R-squared:</td>            <td>0.018</td>            <td>Scale:</td>         <td>29.670</td> \n",
       "</tr>\n",
       "</table>\n",
       "<table class=\"simpletable\">\n",
       "<tr>\n",
       "        <td></td>        <th>Coef.</th>  <th>Std.Err.</th>    <th>t</th>     <th>P>|t|</th> <th>[0.025</th>  <th>0.975]</th> \n",
       "</tr>\n",
       "<tr>\n",
       "  <th>const</th>        <td>8.5005</td>   <td>1.5789</td>  <td>5.3837</td>  <td>0.0000</td> <td>5.3770</td>  <td>11.6240</td>\n",
       "</tr>\n",
       "<tr>\n",
       "  <th>TV</th>           <td>0.0105</td>   <td>0.0077</td>  <td>1.3628</td>  <td>0.1753</td> <td>-0.0047</td> <td>0.0257</td> \n",
       "</tr>\n",
       "<tr>\n",
       "  <th>Radio</th>        <td>-0.0113</td>  <td>0.0337</td>  <td>-0.3346</td> <td>0.7384</td> <td>-0.0779</td> <td>0.0554</td> \n",
       "</tr>\n",
       "<tr>\n",
       "  <th>Newspaper</th>    <td>0.0068</td>   <td>0.0239</td>  <td>0.2840</td>  <td>0.7768</td> <td>-0.0406</td> <td>0.0542</td> \n",
       "</tr>\n",
       "<tr>\n",
       "  <th>Day_Holiday</th>  <td>1.2597</td>   <td>2.5329</td>  <td>0.4973</td>  <td>0.6198</td> <td>-3.7510</td> <td>6.2703</td> \n",
       "</tr>\n",
       "<tr>\n",
       "  <th>Day_Weekdays</th> <td>4.7066</td>   <td>1.0180</td>  <td>4.6232</td>  <td>0.0000</td> <td>2.6927</td>  <td>6.7205</td> \n",
       "</tr>\n",
       "<tr>\n",
       "  <th>Day_Weekend</th>  <td>2.5342</td>   <td>1.3647</td>  <td>1.8569</td>  <td>0.0656</td> <td>-0.1656</td> <td>5.2340</td> \n",
       "</tr>\n",
       "</table>\n",
       "<table class=\"simpletable\">\n",
       "<tr>\n",
       "     <td>Omnibus:</td>    <td>5.519</td>  <td>Durbin-Watson:</td>          <td>2.115</td>       \n",
       "</tr>\n",
       "<tr>\n",
       "  <td>Prob(Omnibus):</td> <td>0.063</td> <td>Jarque-Bera (JB):</td>        <td>5.587</td>       \n",
       "</tr>\n",
       "<tr>\n",
       "       <td>Skew:</td>     <td>0.465</td>     <td>Prob(JB):</td>            <td>0.061</td>       \n",
       "</tr>\n",
       "<tr>\n",
       "     <td>Kurtosis:</td>   <td>2.660</td>  <td>Condition No.:</td>   <td>2436358462314155008</td>\n",
       "</tr>\n",
       "</table>"
      ],
      "text/plain": [
       "<class 'statsmodels.iolib.summary2.Summary'>\n",
       "\"\"\"\n",
       "                 Results: Ordinary least squares\n",
       "=================================================================\n",
       "Model:              OLS              Adj. R-squared:     -0.019  \n",
       "Dependent Variable: Sales            AIC:                859.1043\n",
       "Date:               2020-08-12 02:26 BIC:                876.6242\n",
       "No. Observations:   137              Log-Likelihood:     -423.55 \n",
       "Df Model:           5                F-statistic:        0.4885  \n",
       "Df Residuals:       131              Prob (F-statistic): 0.784   \n",
       "R-squared:          0.018            Scale:              29.670  \n",
       "------------------------------------------------------------------\n",
       "               Coef.   Std.Err.     t     P>|t|    [0.025   0.975]\n",
       "------------------------------------------------------------------\n",
       "const          8.5005    1.5789   5.3837  0.0000   5.3770  11.6240\n",
       "TV             0.0105    0.0077   1.3628  0.1753  -0.0047   0.0257\n",
       "Radio         -0.0113    0.0337  -0.3346  0.7384  -0.0779   0.0554\n",
       "Newspaper      0.0068    0.0239   0.2840  0.7768  -0.0406   0.0542\n",
       "Day_Holiday    1.2597    2.5329   0.4973  0.6198  -3.7510   6.2703\n",
       "Day_Weekdays   4.7066    1.0180   4.6232  0.0000   2.6927   6.7205\n",
       "Day_Weekend    2.5342    1.3647   1.8569  0.0656  -0.1656   5.2340\n",
       "-----------------------------------------------------------------\n",
       "Omnibus:          5.519   Durbin-Watson:      2.115              \n",
       "Prob(Omnibus):    0.063   Jarque-Bera (JB):   5.587              \n",
       "Skew:             0.465   Prob(JB):           0.061              \n",
       "Kurtosis:         2.660   Condition No.:      2436358462314155008\n",
       "=================================================================\n",
       "* The condition number is large (2e+18). This might indicate\n",
       "strong multicollinearity or other numerical problems.\n",
       "\"\"\""
      ]
     },
     "execution_count": 82,
     "metadata": {},
     "output_type": "execute_result"
    }
   ],
   "source": [
    "model = sm.OLS(train_y, train_X).fit() #  Q.7 Using ordinary least square model to fit the set\n",
    "model.summary2() #printing the summary"
   ]
  },
  {
   "cell_type": "code",
   "execution_count": 83,
   "metadata": {
    "colab": {},
    "colab_type": "code",
    "id": "LkOcveao3EFP"
   },
   "outputs": [
    {
     "data": {
      "text/plain": [
       "<Figure size 576x432 with 0 Axes>"
      ]
     },
     "metadata": {},
     "output_type": "display_data"
    },
    {
     "data": {
      "image/png": "[encoded data removed]",
      "text/plain": [
       "<Figure size 432x288 with 1 Axes>"
      ]
     },
     "metadata": {
      "needs_background": "light"
     },
     "output_type": "display_data"
    }
   ],
   "source": [
    "residual = model.resid\n",
    "probplot = sm.ProbPlot( residual ) #Checking for Normality\n",
    "plt.figure( figsize = (8, 6) )\n",
    "probplot.ppplot( line='45' )\n",
    "plt.title( \"Residual Plot of Sales\" )\n",
    "plt.show()"
   ]
  },
  {
   "cell_type": "code",
   "execution_count": 84,
   "metadata": {
    "colab": {},
    "colab_type": "code",
    "id": "WqWk6e994TyJ"
   },
   "outputs": [
    {
     "data": {
      "image/png": "[encoded data removed]",
      "text/plain": [
       "<Figure size 432x288 with 1 Axes>"
      ]
     },
     "metadata": {
      "needs_background": "light"
     },
     "output_type": "display_data"
    }
   ],
   "source": [
    "def standardized( vals ):\n",
    "    return (vals - vals.mean())/vals.std()\n",
    "plt.scatter( standardized( model.fittedvalues ), # plotting Test of Homoscedasticity\n",
    "standardized( residual ) )\n",
    "plt.title( \"Residual Plot Sales Prediction\" ); # title label\n",
    "plt.xlabel( \"Standardized predicted values\") # x axis\n",
    "plt.ylabel( \"Standardized Residuals\"); #y axis"
   ]
  },
  {
   "cell_type": "code",
   "execution_count": 85,
   "metadata": {
    "colab": {},
    "colab_type": "code",
    "id": "VE1Du4wc1n1q"
   },
   "outputs": [
    {
     "data": {
      "text/html": [
       "<div>\n",
       "<style scoped>\n",
       "    .dataframe tbody tr th:only-of-type {\n",
       "        vertical-align: middle;\n",
       "    }\n",
       "\n",
       "    .dataframe tbody tr th {\n",
       "        vertical-align: top;\n",
       "    }\n",
       "\n",
       "    .dataframe thead th {\n",
       "        text-align: right;\n",
       "    }\n",
       "</style>\n",
       "<table border=\"1\" class=\"dataframe\">\n",
       "  <thead>\n",
       "    <tr style=\"text-align: right;\">\n",
       "      <th></th>\n",
       "      <th>TV</th>\n",
       "      <th>Radio</th>\n",
       "      <th>Newspaper</th>\n",
       "      <th>Day_Holiday</th>\n",
       "      <th>Day_Weekdays</th>\n",
       "      <th>Day_Weekend</th>\n",
       "      <th>z_score</th>\n",
       "    </tr>\n",
       "  </thead>\n",
       "  <tbody>\n",
       "  </tbody>\n",
       "</table>\n",
       "</div>"
      ],
      "text/plain": [
       "Empty DataFrame\n",
       "Columns: [TV, Radio, Newspaper, Day_Holiday, Day_Weekdays, Day_Weekend, z_score]\n",
       "Index: []"
      ]
     },
     "execution_count": 85,
     "metadata": {},
     "output_type": "execute_result"
    }
   ],
   "source": [
    "from scipy.stats import zscore\n",
    "encoded_ad['z_score'] = zscore( ad.Sales )\n",
    "encoded_ad[ (encoded_ad.z_score > 3.0) | (encoded_ad.z_score < -3.0) ] # checking z score between 3 to -3"
   ]
  },
  {
   "cell_type": "code",
   "execution_count": 86,
   "metadata": {
    "colab": {},
    "colab_type": "code",
    "id": "Mbdlhwbn2B18"
   },
   "outputs": [
    {
     "data": {
      "image/png": "[encoded data removed]",
      "text/plain": [
       "<Figure size 432x288 with 1 Axes>"
      ]
     },
     "metadata": {
      "needs_background": "light"
     },
     "output_type": "display_data"
    }
   ],
   "source": [
    "import numpy as np\n",
    "influence = model.get_influence()\n",
    "(c, p) = influence.cooks_distance\n",
    "plt.stem( np.arange( len( train_X) ),\n",
    "np.round( c, 3 ),\n",
    "markerfmt=\",\" );\n",
    "plt.title( \"Cooks distance in Ad Sales dataset\" ); # title label\n",
    "plt.xlabel( \"Row index\") # x lable\n",
    "plt.ylabel( \"Cooks Distance\"); # y label"
   ]
  },
  {
   "cell_type": "code",
   "execution_count": 87,
   "metadata": {
    "colab": {},
    "colab_type": "code",
    "id": "VHOzDGS_54BJ"
   },
   "outputs": [
    {
     "data": {
      "image/png": "[encoded data removed]",
      "text/plain": [
       "<Figure size 576x432 with 1 Axes>"
      ]
     },
     "metadata": {
      "needs_background": "light"
     },
     "output_type": "display_data"
    }
   ],
   "source": [
    "from statsmodels.graphics.regressionplots import influence_plot # importing required libraries\n",
    "fig, ax = plt.subplots( figsize=(8,6) ) # plotting LVT\n",
    "influence_plot( model, ax = ax )\n",
    "plt.title( \"Leverage Value Vs Residuals\") # giving title to the diagram\n",
    "plt.show(); # showing the plot"
   ]
  },
  {
   "cell_type": "code",
   "execution_count": 88,
   "metadata": {
    "colab_type": "text",
    "id": "fQ-eIdU47RIB"
   },
   "outputs": [],
   "source": [
    " # Ques 8. RMSE for Validation Data"
   ]
  },
  {
   "cell_type": "code",
   "execution_count": 89,
   "metadata": {
    "colab": {},
    "colab_type": "code",
    "id": "DR4cXjax6jE5"
   },
   "outputs": [
    {
     "data": {
      "text/plain": [
       "4.939961648775789"
      ]
     },
     "execution_count": 89,
     "metadata": {},
     "output_type": "execute_result"
    }
   ],
   "source": [
    "pred_y = model.predict( test_X )\n",
    "from sklearn.metrics import mean_squared_error\n",
    "from sklearn import metrics\n",
    "np.sqrt(mean_squared_error(test_y, pred_y)) # comparing MSE\n"
   ]
  },
  {
   "cell_type": "code",
   "execution_count": 90,
   "metadata": {
    "colab": {},
    "colab_type": "code",
    "id": "WWfIgglG7azY"
   },
   "outputs": [
    {
     "data": {
      "text/plain": [
       "-38.79"
      ]
     },
     "execution_count": 90,
     "metadata": {},
     "output_type": "execute_result"
    }
   ],
   "source": [
    "np.round( metrics.r2_score(pred_y, test_y), 2 )#measuring R square"
   ]
  },
  {
   "cell_type": "code",
   "execution_count": 91,
   "metadata": {},
   "outputs": [],
   "source": [
    "new_features = [\"TV\",\"Radio\", \"Newspaper\"] # using only numeric variables"
   ]
  },
  {
   "cell_type": "code",
   "execution_count": 92,
   "metadata": {
    "scrolled": true
   },
   "outputs": [
    {
     "data": {
      "text/html": [
       "<table class=\"simpletable\">\n",
       "<tr>\n",
       "          <td>Model:</td>                 <td>OLS</td>       <td>Adj. R-squared (uncentered):</td>   <td>0.741</td> \n",
       "</tr>\n",
       "<tr>\n",
       "    <td>Dependent Variable:</td>         <td>Sales</td>                  <td>AIC:</td>             <td>951.5045</td>\n",
       "</tr>\n",
       "<tr>\n",
       "           <td>Date:</td>          <td>2020-08-12 02:26</td>             <td>BIC:</td>             <td>960.2645</td>\n",
       "</tr>\n",
       "<tr>\n",
       "     <td>No. Observations:</td>           <td>137</td>              <td>Log-Likelihood:</td>        <td>-472.75</td>\n",
       "</tr>\n",
       "<tr>\n",
       "         <td>Df Model:</td>                <td>3</td>                <td>F-statistic:</td>           <td>131.5</td> \n",
       "</tr>\n",
       "<tr>\n",
       "       <td>Df Residuals:</td>             <td>134</td>            <td>Prob (F-statistic):</td>     <td>9.66e-40</td>\n",
       "</tr>\n",
       "<tr>\n",
       "  <td>R-squared (uncentered):</td>       <td>0.746</td>                 <td>Scale:</td>             <td>59.487</td> \n",
       "</tr>\n",
       "</table>\n",
       "<table class=\"simpletable\">\n",
       "<tr>\n",
       "      <td></td>       <th>Coef.</th> <th>Std.Err.</th>    <th>t</th>    <th>P>|t|</th> <th>[0.025</th> <th>0.975]</th>\n",
       "</tr>\n",
       "<tr>\n",
       "  <th>TV</th>        <td>0.0404</td>  <td>0.0061</td>  <td>6.6065</td> <td>0.0000</td> <td>0.0283</td> <td>0.0525</td>\n",
       "</tr>\n",
       "<tr>\n",
       "  <th>Radio</th>     <td>0.1492</td>  <td>0.0432</td>  <td>3.4500</td> <td>0.0007</td> <td>0.0636</td> <td>0.2347</td>\n",
       "</tr>\n",
       "<tr>\n",
       "  <th>Newspaper</th> <td>0.0971</td>  <td>0.0314</td>  <td>3.0898</td> <td>0.0024</td> <td>0.0349</td> <td>0.1593</td>\n",
       "</tr>\n",
       "</table>\n",
       "<table class=\"simpletable\">\n",
       "<tr>\n",
       "     <td>Omnibus:</td>    <td>0.945</td>  <td>Durbin-Watson:</td>   <td>1.852</td>\n",
       "</tr>\n",
       "<tr>\n",
       "  <td>Prob(Omnibus):</td> <td>0.624</td> <td>Jarque-Bera (JB):</td> <td>0.681</td>\n",
       "</tr>\n",
       "<tr>\n",
       "       <td>Skew:</td>     <td>0.166</td>     <td>Prob(JB):</td>     <td>0.712</td>\n",
       "</tr>\n",
       "<tr>\n",
       "     <td>Kurtosis:</td>   <td>3.092</td>  <td>Condition No.:</td>    <td>13</td>  \n",
       "</tr>\n",
       "</table>"
      ],
      "text/plain": [
       "<class 'statsmodels.iolib.summary2.Summary'>\n",
       "\"\"\"\n",
       "                       Results: Ordinary least squares\n",
       "==============================================================================\n",
       "Model:                  OLS              Adj. R-squared (uncentered): 0.741   \n",
       "Dependent Variable:     Sales            AIC:                         951.5045\n",
       "Date:                   2020-08-12 02:26 BIC:                         960.2645\n",
       "No. Observations:       137              Log-Likelihood:              -472.75 \n",
       "Df Model:               3                F-statistic:                 131.5   \n",
       "Df Residuals:           134              Prob (F-statistic):          9.66e-40\n",
       "R-squared (uncentered): 0.746            Scale:                       59.487  \n",
       "-----------------------------------------------------------------------------------\n",
       "               Coef.       Std.Err.        t         P>|t|       [0.025      0.975]\n",
       "-----------------------------------------------------------------------------------\n",
       "TV             0.0404        0.0061      6.6065      0.0000      0.0283      0.0525\n",
       "Radio          0.1492        0.0432      3.4500      0.0007      0.0636      0.2347\n",
       "Newspaper      0.0971        0.0314      3.0898      0.0024      0.0349      0.1593\n",
       "------------------------------------------------------------------------------\n",
       "Omnibus:                   0.945            Durbin-Watson:               1.852\n",
       "Prob(Omnibus):             0.624            Jarque-Bera (JB):            0.681\n",
       "Skew:                      0.166            Prob(JB):                    0.712\n",
       "Kurtosis:                  3.092            Condition No.:               13   \n",
       "==============================================================================\n",
       "\n",
       "\"\"\""
      ]
     },
     "execution_count": 92,
     "metadata": {},
     "output_type": "execute_result"
    }
   ],
   "source": [
    "train_X = train_X[new_features]\n",
    "ad_2 = sm.OLS(train_y, train_X).fit()\n",
    "ad_2.summary2()\n",
    "#  this model is much better as r2 is 0.74 means model explains 74%of the variability. \n",
    "#also prob of F statistic islow, so model is statistically significant,"
   ]
  },
  {
   "cell_type": "code",
   "execution_count": 93,
   "metadata": {},
   "outputs": [
    {
     "data": {
      "text/plain": [
       "1.3146"
      ]
     },
     "execution_count": 93,
     "metadata": {},
     "output_type": "execute_result"
    }
   ],
   "source": [
    "sales2 = 10*0.0419 + 5*0.1442 + 2*0.0873  # Q9. Manually calculating sales for 10 tvs 5 radios and 2 newspaper\n",
    "sales2"
   ]
  },
  {
   "cell_type": "code",
   "execution_count": null,
   "metadata": {},
   "outputs": [],
   "source": []
  },
  {
   "cell_type": "code",
   "execution_count": null,
   "metadata": {},
   "outputs": [],
   "source": []
  },
  {
   "cell_type": "code",
   "execution_count": null,
   "metadata": {},
   "outputs": [],
   "source": []
  }
 ],
 "metadata": {
  "colab": {
   "name": "AmolGupta_19A2HP418.ipynb",
   "provenance": []
  },
  "kernelspec": {
   "display_name": "Python 3",
   "language": "python",
   "name": "python3"
  },
  "language_info": {
   "codemirror_mode": {
    "name": "ipython",
    "version": 3
   },
   "file_extension": ".py",
   "mimetype": "text/x-python",
   "name": "python",
   "nbconvert_exporter": "python",
   "pygments_lexer": "ipython3",
   "version": "3.7.6"
  }
 },
 "nbformat": 4,
 "nbformat_minor": 1
}
